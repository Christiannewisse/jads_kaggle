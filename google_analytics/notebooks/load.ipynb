{
 "cells": [
  {
   "cell_type": "code",
   "execution_count": 1,
   "metadata": {},
   "outputs": [],
   "source": [
    "import json\n",
    "import datetime\n",
    "import os\n",
    "import time\n",
    "import sys\n",
    "\n",
    "import pandas as pd\n",
    "import numpy as np\n",
    "from sklearn import preprocessing\n",
    "\n",
    "import matplotlib.pyplot as plt\n",
    "\n",
    "sys.path.append('..')\n",
    "from preprocessing import load, process, preprocess_and_save\n",
    "from aggregation import ohe_explicit"
   ]
  },
  {
   "cell_type": "markdown",
   "metadata": {},
   "source": [
    "# Loading the data\n",
    "\n",
    "The file *preprocessing.py* contains function to load the JSON data, convert to Pandas DataFrames, and perform basic preprocessing (e.g., delete columns that are constant). "
   ]
  },
  {
   "cell_type": "code",
   "execution_count": 64,
   "metadata": {},
   "outputs": [
    {
     "name": "stdout",
     "output_type": "stream",
     "text": [
      "Loaded file ../data/train.csv\n",
      "Shape is: (903653, 55)\n"
     ]
    }
   ],
   "source": [
    "train = load(\"../data/train.csv\")\n",
    "\n",
    "const_cols = [c for c in train.columns if train[c].nunique(dropna=False) == 1]\n",
    "train = train.drop(const_cols, axis=1)\n",
    "\n",
    "# Cast target\n",
    "train[\"transactionRevenue\"] = train[\"transactionRevenue\"].fillna(0).astype(float)"
   ]
  },
  {
   "cell_type": "markdown",
   "metadata": {},
   "source": [
    "## Hypothesis: certain profiles should be naively assigned a zero predicted revenue\n",
    "\n",
    "Since the new problem description includes much less information at prediction time (no session info) it might be beneficial to only focus on visitors with a high probability to spend - and assign a zero prediction to everyone else.\n",
    "\n",
    "**Which profile is improbable enough to make a purchase, that it makes sense to make that prediction naively?**\n",
    "\n",
    "We think that visitors with a single visit that did not lead to a purchase during the training period (prior to December of the testing year) have a very high probability of not buying anything during December and January either. Let's test this assumption."
   ]
  },
  {
   "cell_type": "code",
   "execution_count": 65,
   "metadata": {},
   "outputs": [],
   "source": [
    "x_train = train[(train[\"date\"] < '2016-12-01')]\n",
    "y_train = train[(train[\"date\"] >= '2016-12-01') & (train[\"date\"] >= '2017-02-01')]"
   ]
  },
  {
   "cell_type": "code",
   "execution_count": 66,
   "metadata": {},
   "outputs": [
    {
     "name": "stdout",
     "output_type": "stream",
     "text": [
      "There are 263866 such visitors (out of 295432 found in our training set in total).\n"
     ]
    }
   ],
   "source": [
    "# Find people with a single visit during the training period\n",
    "count = x_train[[\"fullVisitorId\", \"transactionRevenue\"]].groupby(\"fullVisitorId\").count().reset_index()\n",
    "\n",
    "single_visit_ids = count[count[\"transactionRevenue\"] == 1][\"fullVisitorId\"]\n",
    "print(\"There are {} such visitors (out of {} found in our training set in total).\".format(len(single_visit_ids), len(count)))"
   ]
  },
  {
   "cell_type": "code",
   "execution_count": 67,
   "metadata": {},
   "outputs": [
    {
     "name": "stdout",
     "output_type": "stream",
     "text": [
      "Out of 263866 single visits, 1107 ended up in a purchase\n"
     ]
    }
   ],
   "source": [
    "# But maybe some of those guys actually bought something in that single visit.\n",
    "single_visits = x_train[x_train[\"fullVisitorId\"].isin(single_visit_ids)]\n",
    "num_purchases = len(single_visits[single_visits[\"transactionRevenue\"] > 0][\"transactionRevenue\"])\n",
    "print(\"Out of {} single visits, {} ended up in a purchase\".format(len(single_visit_ids), num_purchases))"
   ]
  },
  {
   "cell_type": "code",
   "execution_count": 68,
   "metadata": {},
   "outputs": [
    {
     "name": "stdout",
     "output_type": "stream",
     "text": [
      "We will therefore choose to ignore 262759 users\n"
     ]
    }
   ],
   "source": [
    "to_ignore = set(single_visit_ids) - set(single_visits[single_visits[\"transactionRevenue\"] > 0][\"fullVisitorId\"])\n",
    "print(\"We will therefore choose to ignore {} users\".format(len(to_ignore)))"
   ]
  },
  {
   "cell_type": "markdown",
   "metadata": {},
   "source": [
    "## Is this assumption justified?\n",
    "\n",
    "How reliable is this assumption? Are these people that we choose to ignore indeed buying nothing? Let's find out.\n"
   ]
  },
  {
   "cell_type": "code",
   "execution_count": 72,
   "metadata": {},
   "outputs": [
    {
     "name": "stdout",
     "output_type": "stream",
     "text": [
      "There are 2290 people appearing both in the training and the test periods\n",
      "We will ignore 2037 out of those 2290 people\n"
     ]
    }
   ],
   "source": [
    "# We will only focus on people who exist in both datasets\n",
    "common_ids = set(y_train[\"fullVisitorId\"]).intersection(x_train[\"fullVisitorId\"])\n",
    "print(\"There are {} people appearing both in the training and the test periods\".format(len(common_ids)))\n",
    "\n",
    "y_train = y_train[y_train[\"fullVisitorId\"].isin(common_ids)]\n",
    "ignored = y_train[y_train[\"fullVisitorId\"].isin(to_ignore)]\n",
    "print(\"We will ignore {} out of those {} people\".format(len(ignored), len(common_ids)))"
   ]
  },
  {
   "cell_type": "code",
   "execution_count": 88,
   "metadata": {},
   "outputs": [
    {
     "name": "stdout",
     "output_type": "stream",
     "text": [
      "We made 196 mistakes (9.62% of cases) leading to loss = 5.4433800738203315\n"
     ]
    }
   ],
   "source": [
    "import numpy as np\n",
    "\n",
    "predicted_target = [0] * len(common_ids)\n",
    "\n",
    "y_train_grouped = y_train[[\"fullVisitorId\", \"transactionRevenue\"]].groupby(\"fullVisitorId\", as_index=False).sum()\n",
    "actual_target = y_train_grouped[\"transactionRevenue\"].apply(lambda revenue: np.log(revenue + 1))\n",
    "    \n",
    "loss = np.sqrt(np.mean((predicted_target - actual_target)**2))\n",
    "num_mistakes = sum(actual_target > 0)\n",
    "\n",
    "print(\"We made {} mistakes ({:.2f}% of cases) leading to loss = {}\".format(num_mistakes, 100*num_mistakes/len(ignored) ,loss))"
   ]
  },
  {
   "cell_type": "markdown",
   "metadata": {},
   "source": [
    "## Is this small enough?\n",
    "\n",
    "That's not a neglilible mistake: 196 out of 2037 people and a loss of 5 in the log space. However we do not yet know what a predictive model would be able to predict (without any session information of course). If a model would be able to do better, then its of course a bad idea to ignore these guys. If the predictive model fails, then its a good idea to ignore them.\n",
    "\n",
    "**To be continued!**"
   ]
  },
  {
   "cell_type": "code",
   "execution_count": 89,
   "metadata": {},
   "outputs": [],
   "source": [
    "# Run this if you need to recreate the initial dataset\n",
    "#preprocess_and_save(\"../data\", nrows_train=100000, nrows_test=10000)"
   ]
  },
  {
   "cell_type": "markdown",
   "metadata": {},
   "source": [
    "# Categoricals with many values\n",
    "\n",
    "There are a number of categorical features with many different values. This is an issue, specifically in the cases where those categorical features are not ordinal, and therefore label encoding them does not make sense. The only choice we are left with, is OHE. However naively performing this step would add hundreds of columns for each original categorical feature - in the end yielding potentially thousands of super sparse features. What I would like to explore, is whether there exist **specific values** with predictive value significantly higher than average. For example, looking at the particular country might be a weak predictor. However there might be 5 specific countries with a huge revenue deviation from the average (and enough samples to consider this discrepancy statistically significant)."
   ]
  },
  {
   "cell_type": "code",
   "execution_count": 93,
   "metadata": {},
   "outputs": [
    {
     "name": "stdout",
     "output_type": "stream",
     "text": [
      "Loaded file ../data/train.csv\n",
      "Shape is: (903653, 55)\n",
      "Loaded file ../data/test.csv\n",
      "Shape is: (10000, 53)\n",
      "Dropping constant columns...\n",
      "Create some features...\n",
      "Generating date columns...\n",
      "Finding total visits...\n",
      "Splitting back...\n",
      "There are 222 different countries in our dataset\n"
     ]
    }
   ],
   "source": [
    "train = load(\"../data/train.csv\")\n",
    "test = load(\"../data/test.csv\", nrows=10000)\n",
    "train, test = process(train, test)\n",
    "\n",
    "countries = train['country']\n",
    "print(\"There are {} different countries in our dataset\".format(len(countries.unique())))"
   ]
  },
  {
   "cell_type": "code",
   "execution_count": 94,
   "metadata": {},
   "outputs": [
    {
     "data": {
      "text/plain": [
       "<matplotlib.axes._subplots.AxesSubplot at 0x1cb59571cf8>"
      ]
     },
     "execution_count": 94,
     "metadata": {},
     "output_type": "execute_result"
    },
    {
     "data": {
      "image/png": "[encoded data removed]",
      "text/plain": [
       "<Figure size 432x288 with 1 Axes>"
      ]
     },
     "metadata": {},
     "output_type": "display_data"
    }
   ],
   "source": [
    "aggregations = {'target':['mean', 'count']}\n",
    "\n",
    "countries = train[[\"country\", \"target\"]].groupby(\"country\", as_index=False).agg(aggregations)\n",
    "countries.columns = [\"country\", \"targetMean\", \"occurenceCount\"]\n",
    "\n",
    "# Let's focus only on countries with multiple records to preserve some statistical significance\n",
    "keep = 10\n",
    "usual_countries = countries.sort_values(\"occurenceCount\", ascending=False).head(keep)\n",
    "\n",
    "global_average = train[\"target\"].mean()\n",
    "usual_countries[\"deviation\"] = usual_countries[\"targetMean\"] - global_average\n",
    "usual_countries.plot.bar(x=\"country\", y=\"deviation\")"
   ]
  },
  {
   "cell_type": "markdown",
   "metadata": {},
   "source": [
    "# USA seems quite different\n",
    "\n",
    "What we can find here is that USA is very different to any other country with significant sample count. What we can do with this information? We instead of using OHE to code every country in our dataset, we can probably get away with a single boolean column: **is this record coming from the USA?**"
   ]
  },
  {
   "cell_type": "code",
   "execution_count": 95,
   "metadata": {},
   "outputs": [
    {
     "name": "stdout",
     "output_type": "stream",
     "text": [
      "There are 648 different cities in our dataset\n"
     ]
    }
   ],
   "source": [
    "cities = train['city']\n",
    "print(\"There are {} different cities in our dataset\".format(len(cities.unique())))"
   ]
  },
  {
   "cell_type": "code",
   "execution_count": 96,
   "metadata": {},
   "outputs": [
    {
     "data": {
      "text/plain": [
       "<matplotlib.axes._subplots.AxesSubplot at 0x1cbaaf457f0>"
      ]
     },
     "execution_count": 96,
     "metadata": {},
     "output_type": "execute_result"
    },
    {
     "data": {
      "image/png": "[encoded data removed]",
      "text/plain": [
       "<Figure size 432x288 with 1 Axes>"
      ]
     },
     "metadata": {},
     "output_type": "display_data"
    }
   ],
   "source": [
    "aggregations = {'target':['mean', 'count']}\n",
    "\n",
    "cities = train[[\"city\", \"target\"]].groupby(\"city\", as_index=False).agg(aggregations)\n",
    "cities.columns = [\"city\", \"targetMean\", \"occurenceCount\"]\n",
    "\n",
    "# Let's focus only on countries with multiple records to preserve some statistical significance\n",
    "keep = 10\n",
    "usual_cities = cities.sort_values(\"occurenceCount\", ascending=False).head(keep)\n",
    "\n",
    "global_average = train[\"target\"].mean()\n",
    "usual_cities[\"deviation\"] = usual_cities[\"targetMean\"] - global_average\n",
    "usual_cities.plot.bar(x=\"city\", y=\"deviation\")"
   ]
  },
  {
   "cell_type": "markdown",
   "metadata": {},
   "source": [
    "# What about the cities?\n",
    "\n",
    "Here we can see some pretty strong deviations. However we need to note that the top ones come from US cities, so part of the variance these cities explain, is already included in the information that they belong to the USA. However their deviation is considerably higher than that of USA alone (1.0 vs 0.3) so including those columns might still be beneficial. The deviation we see is actually very distorted because of the USA outlier. Perhaps it would make more sense to only focus on the deviation from the average of non-USA cities."
   ]
  },
  {
   "cell_type": "code",
   "execution_count": 97,
   "metadata": {},
   "outputs": [
    {
     "name": "stdout",
     "output_type": "stream",
     "text": [
      "Average in US: 0.5350073082967423\n",
      "Average outside US: 0.01873286818644981\n"
     ]
    }
   ],
   "source": [
    "train_not_us = train[train['country'] != \"United States\"]\n",
    "train_us = train[train['country'] == \"United States\"]\n",
    "\n",
    "outside_us_avg = train_not_us['target'].mean()\n",
    "us_avg = train_us[\"target\"].mean()\n",
    "\n",
    "print(\"Average in US: {}\\nAverage outside US: {}\".format(us_avg, outside_us_avg))"
   ]
  },
  {
   "cell_type": "markdown",
   "metadata": {},
   "source": [
    "**Let's then repeat out analysis but this time separatly for the pieces of data**"
   ]
  },
  {
   "cell_type": "code",
   "execution_count": 98,
   "metadata": {},
   "outputs": [
    {
     "data": {
      "image/png": "[encoded data removed]",
      "text/plain": [
       "<Figure size 432x288 with 1 Axes>"
      ]
     },
     "metadata": {},
     "output_type": "display_data"
    },
    {
     "data": {
      "image/png": "[encoded data removed]",
      "text/plain": [
       "<Figure size 432x288 with 1 Axes>"
      ]
     },
     "metadata": {},
     "output_type": "display_data"
    }
   ],
   "source": [
    "aggregations = {'target':['mean', 'count']}\n",
    "\n",
    "# US case\n",
    "def city_deviation(df, title=\"Deviation per city\"):\n",
    "    cities = df[[\"city\", \"target\"]].groupby(\"city\", as_index=False).agg(aggregations)\n",
    "    cities.columns = [\"city\", \"targetMean\", \"occurenceCount\"]\n",
    "\n",
    "    # Let's focus only on countries with multiple records to preserve some statistical significance\n",
    "    keep = 10\n",
    "    usual_cities = cities.sort_values(\"occurenceCount\", ascending=False).head(keep)\n",
    "\n",
    "    global_average = df[\"target\"].mean()\n",
    "    usual_cities[\"deviation\"] = usual_cities[\"targetMean\"] - global_average\n",
    "    ax = usual_cities.plot.bar(x=\"city\", y=\"deviation\", title=title, rot=45, legend=False)\n",
    "    ax.set_xlabel(\"City\")\n",
    "    ax.set_ylabel(\"Deviation\")\n",
    "    \n",
    "city_deviation(train_us, title=\"Deviation from the mean - US\")\n",
    "city_deviation(train_not_us, title=\"Deviation from the mean - Rest of the world\")"
   ]
  },
  {
   "cell_type": "markdown",
   "metadata": {},
   "source": [
    "## Much better!\n",
    "\n",
    "Now we can clearly see what information should be included besides the country (or to be exact, whether or not the country is the US). For example it makes no sense to include Los Angeles or Mountain View even though they deviate from the global average, because all this deviation is explained by the fact that they exist in the US! Instead we should include Chicago, New York, Austin, Seattle and maybe Palo Alto. And as we can see the deviations are much smaller outside the US, with the exception of Toronto which MUST be included.\n",
    "\n",
    "### Food for thought\n",
    "It makes sense that deviations outside the US are smaller because the target itself is considerable lower. Perhaps we should look at relative deviations instead?"
   ]
  },
  {
   "cell_type": "code",
   "execution_count": 99,
   "metadata": {},
   "outputs": [
    {
     "data": {
      "text/html": [
       "<div>\n",
       "<style scoped>\n",
       "    .dataframe tbody tr th:only-of-type {\n",
       "        vertical-align: middle;\n",
       "    }\n",
       "\n",
       "    .dataframe tbody tr th {\n",
       "        vertical-align: top;\n",
       "    }\n",
       "\n",
       "    .dataframe thead th {\n",
       "        text-align: right;\n",
       "    }\n",
       "</style>\n",
       "<table border=\"1\" class=\"dataframe\">\n",
       "  <thead>\n",
       "    <tr style=\"text-align: right;\">\n",
       "      <th></th>\n",
       "      <th>channelGrouping</th>\n",
       "      <th>date</th>\n",
       "      <th>fullVisitorId</th>\n",
       "      <th>visitNumber</th>\n",
       "      <th>browser</th>\n",
       "      <th>deviceCategory</th>\n",
       "      <th>isMobile</th>\n",
       "      <th>operatingSystem</th>\n",
       "      <th>continent</th>\n",
       "      <th>metro</th>\n",
       "      <th>...</th>\n",
       "      <th>weekday</th>\n",
       "      <th>visitHour</th>\n",
       "      <th>totalVisits</th>\n",
       "      <th>country_United States</th>\n",
       "      <th>city_New York</th>\n",
       "      <th>city_Chicago</th>\n",
       "      <th>city_Austin</th>\n",
       "      <th>city_Seattle</th>\n",
       "      <th>city_Palo Alto</th>\n",
       "      <th>city_Toronto</th>\n",
       "    </tr>\n",
       "  </thead>\n",
       "  <tbody>\n",
       "    <tr>\n",
       "      <th>0</th>\n",
       "      <td>Organic Search</td>\n",
       "      <td>2016-09-02</td>\n",
       "      <td>1131660440785968503</td>\n",
       "      <td>1</td>\n",
       "      <td>Chrome</td>\n",
       "      <td>desktop</td>\n",
       "      <td>False</td>\n",
       "      <td>Windows</td>\n",
       "      <td>Asia</td>\n",
       "      <td>NaN</td>\n",
       "      <td>...</td>\n",
       "      <td>4</td>\n",
       "      <td>17</td>\n",
       "      <td>1</td>\n",
       "      <td>False</td>\n",
       "      <td>False</td>\n",
       "      <td>False</td>\n",
       "      <td>False</td>\n",
       "      <td>False</td>\n",
       "      <td>False</td>\n",
       "      <td>False</td>\n",
       "    </tr>\n",
       "    <tr>\n",
       "      <th>1</th>\n",
       "      <td>Organic Search</td>\n",
       "      <td>2016-09-02</td>\n",
       "      <td>377306020877927890</td>\n",
       "      <td>1</td>\n",
       "      <td>Firefox</td>\n",
       "      <td>desktop</td>\n",
       "      <td>False</td>\n",
       "      <td>Macintosh</td>\n",
       "      <td>Oceania</td>\n",
       "      <td>NaN</td>\n",
       "      <td>...</td>\n",
       "      <td>4</td>\n",
       "      <td>7</td>\n",
       "      <td>1</td>\n",
       "      <td>False</td>\n",
       "      <td>False</td>\n",
       "      <td>False</td>\n",
       "      <td>False</td>\n",
       "      <td>False</td>\n",
       "      <td>False</td>\n",
       "      <td>False</td>\n",
       "    </tr>\n",
       "    <tr>\n",
       "      <th>2</th>\n",
       "      <td>Organic Search</td>\n",
       "      <td>2016-09-02</td>\n",
       "      <td>3895546263509774583</td>\n",
       "      <td>1</td>\n",
       "      <td>Chrome</td>\n",
       "      <td>desktop</td>\n",
       "      <td>False</td>\n",
       "      <td>Windows</td>\n",
       "      <td>Europe</td>\n",
       "      <td>NaN</td>\n",
       "      <td>...</td>\n",
       "      <td>4</td>\n",
       "      <td>3</td>\n",
       "      <td>1</td>\n",
       "      <td>False</td>\n",
       "      <td>False</td>\n",
       "      <td>False</td>\n",
       "      <td>False</td>\n",
       "      <td>False</td>\n",
       "      <td>False</td>\n",
       "      <td>False</td>\n",
       "    </tr>\n",
       "    <tr>\n",
       "      <th>3</th>\n",
       "      <td>Organic Search</td>\n",
       "      <td>2016-09-02</td>\n",
       "      <td>4763447161404445595</td>\n",
       "      <td>1</td>\n",
       "      <td>UC Browser</td>\n",
       "      <td>desktop</td>\n",
       "      <td>False</td>\n",
       "      <td>Linux</td>\n",
       "      <td>Asia</td>\n",
       "      <td>NaN</td>\n",
       "      <td>...</td>\n",
       "      <td>4</td>\n",
       "      <td>7</td>\n",
       "      <td>1</td>\n",
       "      <td>False</td>\n",
       "      <td>False</td>\n",
       "      <td>False</td>\n",
       "      <td>False</td>\n",
       "      <td>False</td>\n",
       "      <td>False</td>\n",
       "      <td>False</td>\n",
       "    </tr>\n",
       "    <tr>\n",
       "      <th>4</th>\n",
       "      <td>Organic Search</td>\n",
       "      <td>2016-09-02</td>\n",
       "      <td>27294437909732085</td>\n",
       "      <td>2</td>\n",
       "      <td>Chrome</td>\n",
       "      <td>mobile</td>\n",
       "      <td>True</td>\n",
       "      <td>Android</td>\n",
       "      <td>Europe</td>\n",
       "      <td>NaN</td>\n",
       "      <td>...</td>\n",
       "      <td>4</td>\n",
       "      <td>15</td>\n",
       "      <td>2</td>\n",
       "      <td>False</td>\n",
       "      <td>False</td>\n",
       "      <td>False</td>\n",
       "      <td>False</td>\n",
       "      <td>False</td>\n",
       "      <td>False</td>\n",
       "      <td>False</td>\n",
       "    </tr>\n",
       "  </tbody>\n",
       "</table>\n",
       "<p>5 rows × 51 columns</p>\n",
       "</div>"
      ],
      "text/plain": [
       "  channelGrouping       date        fullVisitorId  visitNumber     browser  \\\n",
       "0  Organic Search 2016-09-02  1131660440785968503            1      Chrome   \n",
       "1  Organic Search 2016-09-02   377306020877927890            1     Firefox   \n",
       "2  Organic Search 2016-09-02  3895546263509774583            1      Chrome   \n",
       "3  Organic Search 2016-09-02  4763447161404445595            1  UC Browser   \n",
       "4  Organic Search 2016-09-02    27294437909732085            2      Chrome   \n",
       "\n",
       "  deviceCategory  isMobile operatingSystem continent metro     ...       \\\n",
       "0        desktop     False         Windows      Asia   NaN     ...        \n",
       "1        desktop     False       Macintosh   Oceania   NaN     ...        \n",
       "2        desktop     False         Windows    Europe   NaN     ...        \n",
       "3        desktop     False           Linux      Asia   NaN     ...        \n",
       "4         mobile      True         Android    Europe   NaN     ...        \n",
       "\n",
       "  weekday visitHour totalVisits country_United States city_New York  \\\n",
       "0       4        17           1                 False         False   \n",
       "1       4         7           1                 False         False   \n",
       "2       4         3           1                 False         False   \n",
       "3       4         7           1                 False         False   \n",
       "4       4        15           2                 False         False   \n",
       "\n",
       "  city_Chicago city_Austin city_Seattle city_Palo Alto city_Toronto  \n",
       "0        False       False        False          False        False  \n",
       "1        False       False        False          False        False  \n",
       "2        False       False        False          False        False  \n",
       "3        False       False        False          False        False  \n",
       "4        False       False        False          False        False  \n",
       "\n",
       "[5 rows x 51 columns]"
      ]
     },
     "execution_count": 99,
     "metadata": {},
     "output_type": "execute_result"
    }
   ],
   "source": [
    "check = ohe_explicit(train)\n",
    "check.head()  "
   ]
  }
 ],
 "metadata": {
  "kernelspec": {
   "display_name": "Python 3",
   "language": "python",
   "name": "python3"
  },
  "language_info": {
   "codemirror_mode": {
    "name": "ipython",
    "version": 3
   },
   "file_extension": ".py",
   "mimetype": "text/x-python",
   "name": "python",
   "nbconvert_exporter": "python",
   "pygments_lexer": "ipython3",
   "version": "3.7.0"
  }
 },
 "nbformat": 4,
 "nbformat_minor": 2
}
